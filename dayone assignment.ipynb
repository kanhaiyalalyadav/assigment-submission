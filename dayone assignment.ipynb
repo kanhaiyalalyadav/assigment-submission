{
 "cells": [
  {
   "cell_type": "code",
   "execution_count": null,
   "metadata": {},
   "outputs": [],
   "source": [
    "#Question1 of assignment1\n",
    "x=5\n",
    "res1=(2*x+5)/(x**2+5*x+6)\n",
    "res2=(x**2+5*x+6)/(2*x+5)\n",
    "res3=(2*x-3)*(x+9)\n",
    "print(res1)\n",
    "print(res2)\n",
    "print(res3)"
   ]
  },
  {
   "cell_type": "code",
   "execution_count": null,
   "metadata": {},
   "outputs": [
    {
     "name": "stdout",
     "output_type": "stream",
     "text": [
      "Enter username: kanhaiya\n",
      "Enter password: hyod\n",
      "Your username/password is incorrect Try again.\n"
     ]
    }
   ],
   "source": [
    "#Question 2 of assinment1\n",
    "count=0\n",
    "while count < 3:\n",
    "    username = input('Enter username: ')\n",
    "    password = input('Enter password: ')\n",
    "    if password=='Ind345' and username=='Indian':\n",
    "        print('Login sucessfull!')\n",
    "        break\n",
    "    else:\n",
    "        print('Your username/password is incorrect Try again.')\n",
    "        count += 1"
   ]
  }
 ],
 "metadata": {
  "kernelspec": {
   "display_name": "Python 3",
   "language": "python",
   "name": "python3"
  },
  "language_info": {
   "codemirror_mode": {
    "name": "ipython",
    "version": 3
   },
   "file_extension": ".py",
   "mimetype": "text/x-python",
   "name": "python",
   "nbconvert_exporter": "python",
   "pygments_lexer": "ipython3",
   "version": "3.7.3"
  }
 },
 "nbformat": 4,
 "nbformat_minor": 4
}
